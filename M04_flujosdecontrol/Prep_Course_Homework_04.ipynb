{
 "cells": [
  {
   "attachments": {},
   "cell_type": "markdown",
   "metadata": {},
   "source": [
    "## Flujos de Control"
   ]
  },
  {
   "attachments": {},
   "cell_type": "markdown",
   "metadata": {},
   "source": [
    "1) Crear una variable que contenga un elemento del conjunto de números enteros y luego imprimir por pantalla si es mayor o menor a cero"
   ]
  },
  {
   "cell_type": "code",
   "execution_count": 19,
   "metadata": {},
   "outputs": [
    {
     "name": "stdout",
     "output_type": "stream",
     "text": [
      "n es > 0\n"
     ]
    }
   ],
   "source": [
    "n = 8\n",
    "if n < 0:\n",
    "    print(\"n es < 0\")\n",
    "elif n > 0:\n",
    "    print(\"n es > 0\")\n",
    "else:\n",
    "    print(\"n es = 0\")"
   ]
  },
  {
   "attachments": {},
   "cell_type": "markdown",
   "metadata": {},
   "source": [
    "2) Crear dos variables y un condicional que informe si son del mismo tipo de dato"
   ]
  },
  {
   "cell_type": "code",
   "execution_count": 23,
   "metadata": {},
   "outputs": [
    {
     "name": "stdout",
     "output_type": "stream",
     "text": [
      "True\n"
     ]
    }
   ],
   "source": [
    "a = 0.5\n",
    "b = 10.8\n",
    "if type(a) == type(b):\n",
    "    print(True)\n",
    "else:\n",
    "    print(False)"
   ]
  },
  {
   "attachments": {},
   "cell_type": "markdown",
   "metadata": {},
   "source": [
    "3) Para los valores enteros del 1 al 20, imprimir por pantalla si es par o impar"
   ]
  },
  {
   "cell_type": "code",
   "execution_count": 15,
   "metadata": {},
   "outputs": [
    {
     "name": "stdout",
     "output_type": "stream",
     "text": [
      "1 impar\n",
      "2 par\n",
      "3 impar\n",
      "4 par\n",
      "5 impar\n",
      "6 par\n",
      "7 impar\n",
      "8 par\n",
      "9 impar\n",
      "10 par\n",
      "11 impar\n",
      "12 par\n",
      "13 impar\n",
      "14 par\n",
      "15 impar\n",
      "16 par\n",
      "17 impar\n",
      "18 par\n",
      "19 impar\n",
      "20 par\n"
     ]
    }
   ],
   "source": [
    "for n in range(1,21):\n",
    "    if n % 2 == 0:\n",
    "        print(n, \"par\")\n",
    "    else:\n",
    "        print(n,\"impar\")"
   ]
  },
  {
   "attachments": {},
   "cell_type": "markdown",
   "metadata": {},
   "source": [
    "4) En un ciclo for mostrar para los valores entre 0 y 5 el resultado de elevarlo a la potencia igual a 3"
   ]
  },
  {
   "cell_type": "code",
   "execution_count": 16,
   "metadata": {},
   "outputs": [
    {
     "name": "stdout",
     "output_type": "stream",
     "text": [
      "0 0\n",
      "1 1\n",
      "2 8\n",
      "3 27\n",
      "4 64\n",
      "5 125\n"
     ]
    }
   ],
   "source": [
    "for n in range(0,6):\n",
    "    print(n, n**3)"
   ]
  },
  {
   "attachments": {},
   "cell_type": "markdown",
   "metadata": {},
   "source": [
    "5) Crear una variable que contenga un número entero y realizar un ciclo for la misma cantidad de ciclos"
   ]
  },
  {
   "cell_type": "code",
   "execution_count": 30,
   "metadata": {},
   "outputs": [
    {
     "name": "stdout",
     "output_type": "stream",
     "text": [
      "0\n",
      "1\n",
      "2\n",
      "3\n",
      "4\n",
      "5\n",
      "6\n",
      "7\n",
      "8\n",
      "9\n"
     ]
    }
   ],
   "source": [
    "a = 10\n",
    "for n in range(0,a):\n",
    "    pass\n",
    "    print(n)"
   ]
  },
  {
   "attachments": {},
   "cell_type": "markdown",
   "metadata": {},
   "source": [
    "6) Utilizar un ciclo while para realizar el factorial de un número guardado en una variable, sólo si la variable contiene un número entero mayor a 0"
   ]
  },
  {
   "cell_type": "code",
   "execution_count": 1,
   "metadata": {},
   "outputs": [
    {
     "name": "stdout",
     "output_type": "stream",
     "text": [
      "24\n"
     ]
    }
   ],
   "source": [
    "a = 4\n",
    "\n",
    "if type(a) == int:\n",
    "    if a > 0:\n",
    "        factorial = a\n",
    "        while(a > 2):\n",
    "            a -= 1\n",
    "            factorial = factorial * a\n",
    "        print(factorial)\n",
    "    else:\n",
    "        print(a, \"la variable es < 0\")\n",
    "else:\n",
    "    print(\"no int\")\n"
   ]
  },
  {
   "attachments": {},
   "cell_type": "markdown",
   "metadata": {},
   "source": [
    "7) Crear un ciclo for dentro de un ciclo while"
   ]
  },
  {
   "cell_type": "code",
   "execution_count": 29,
   "metadata": {},
   "outputs": [
    {
     "name": "stdout",
     "output_type": "stream",
     "text": [
      "while 1\n",
      "for 0\n",
      "for 1\n",
      "for 2\n",
      "for 3\n",
      "for 4\n",
      "while 0\n",
      "for 0\n",
      "for 1\n",
      "for 2\n",
      "for 3\n",
      "for 4\n"
     ]
    }
   ],
   "source": [
    "a = 2\n",
    "while a > 0:\n",
    "    a -= 1\n",
    "    print(\"while\", a)\n",
    "    for n in range(0,5):\n",
    "        print(\"for\", n)\n",
    "        "
   ]
  },
  {
   "attachments": {},
   "cell_type": "markdown",
   "metadata": {},
   "source": [
    "8) Crear un ciclo while dentro de un ciclo for"
   ]
  },
  {
   "cell_type": "code",
   "execution_count": 50,
   "metadata": {},
   "outputs": [
    {
     "name": "stdout",
     "output_type": "stream",
     "text": [
      "for 0\n",
      "while 1\n",
      "while 2\n",
      "while 3\n",
      "while 4\n",
      "while 5\n",
      "for 1\n",
      "while 2\n",
      "while 3\n",
      "while 4\n",
      "while 5\n",
      "for 2\n",
      "while 3\n",
      "while 4\n",
      "while 5\n",
      "for 3\n",
      "while 4\n",
      "while 5\n"
     ]
    }
   ],
   "source": [
    "for a in range(0,4):\n",
    "    print(\"for\", a)\n",
    "    \n",
    "    while a <= 4:\n",
    "        a += 1\n",
    "        print(\"while\", a)\n"
   ]
  },
  {
   "attachments": {},
   "cell_type": "markdown",
   "metadata": {},
   "source": [
    "9) Imprimir los números primos existentes entre 0 y 30"
   ]
  },
  {
   "cell_type": "code",
   "execution_count": 18,
   "metadata": {},
   "outputs": [
    {
     "name": "stdout",
     "output_type": "stream",
     "text": [
      "2\n",
      "3\n",
      "5\n",
      "7\n",
      "11\n",
      "13\n",
      "17\n",
      "19\n",
      "23\n",
      "29\n"
     ]
    }
   ],
   "source": [
    "numero = 1\n",
    "while numero <= 30:\n",
    "    contador = 1\n",
    "    x = 0\n",
    "    while contador <= numero:\n",
    "        if numero % contador == 0:\n",
    "            x += 1\n",
    "        contador += 1\n",
    "    if x == 2:\n",
    "        print(numero)\n",
    "    numero += 1"
   ]
  },
  {
   "attachments": {},
   "cell_type": "markdown",
   "metadata": {},
   "source": [
    "10) ¿Se puede mejorar el proceso del punto 9? Utilizar las sentencias break y/ó continue para tal fin"
   ]
  },
  {
   "cell_type": "code",
   "execution_count": 51,
   "metadata": {},
   "outputs": [
    {
     "name": "stdout",
     "output_type": "stream",
     "text": [
      "2\n",
      "3\n",
      "5\n",
      "7\n",
      "11\n",
      "13\n",
      "17\n",
      "19\n",
      "23\n",
      "29\n"
     ]
    }
   ],
   "source": [
    "numero = 1\n",
    "while numero <= 30:\n",
    "    contador = 1\n",
    "    x = 0\n",
    "    while contador <= numero:\n",
    "        if numero % contador == 0:\n",
    "            x += 1\n",
    "        if x > 2:  # Si hay más de 2 divisores, no es primo\n",
    "            break\n",
    "        contador += 1\n",
    "    if x == 2:\n",
    "        print(numero)\n",
    "    numero += 1\n"
   ]
  },
  {
   "attachments": {},
   "cell_type": "markdown",
   "metadata": {},
   "source": [
    "11) En los puntos 9 y 10, se diseño un código que encuentra números primos y además se lo optimizó. ¿Es posible saber en qué medida se optimizó?"
   ]
  },
  {
   "cell_type": "code",
   "execution_count": 53,
   "metadata": {},
   "outputs": [
    {
     "name": "stdout",
     "output_type": "stream",
     "text": [
      "Total iteraciones (original): 465\n",
      "Total iteraciones (optimizado): 256\n",
      "Se optimizó a un 44.95% de ciclos aplicando break\n"
     ]
    }
   ],
   "source": [
    "# Código Original\n",
    "numero = 1\n",
    "total_iteraciones_original = 0\n",
    "while numero <= 30:\n",
    "    contador = 1\n",
    "    x = 0\n",
    "    while contador <= numero:\n",
    "        total_iteraciones_original += 1\n",
    "        if numero % contador == 0:\n",
    "            x += 1\n",
    "        contador += 1\n",
    "    numero += 1\n",
    "\n",
    "# Código Optimizado\n",
    "numero = 1\n",
    "total_iteraciones_optimizado = 0\n",
    "while numero <= 30:\n",
    "    contador = 1\n",
    "    x = 0\n",
    "    while contador <= numero:\n",
    "        total_iteraciones_optimizado += 1\n",
    "        if numero % contador == 0:\n",
    "            x += 1\n",
    "        if x > 2:  # Si hay más de 2 divisores, no es primo\n",
    "            break\n",
    "        contador += 1\n",
    "    numero += 1\n",
    "\n",
    "# Imprimir los resultados\n",
    "print(\"Total iteraciones (original):\", total_iteraciones_original)\n",
    "print(\"Total iteraciones (optimizado):\", total_iteraciones_optimizado)\n",
    "\n",
    "# Calcular la optimización\n",
    "mejora = 100 * (total_iteraciones_original - total_iteraciones_optimizado) / total_iteraciones_original\n",
    "print(f\"Se optimizó a un {mejora:.2f}% de ciclos aplicando break\")\n"
   ]
  },
  {
   "attachments": {},
   "cell_type": "markdown",
   "metadata": {},
   "source": [
    "12) Aplicando continue, armar un ciclo while que solo imprima los valores divisibles por 12, dentro del rango de números de 100 a 300"
   ]
  },
  {
   "cell_type": "code",
   "execution_count": 54,
   "metadata": {},
   "outputs": [
    {
     "name": "stdout",
     "output_type": "stream",
     "text": [
      "108\n",
      "120\n",
      "132\n",
      "144\n",
      "156\n",
      "168\n",
      "180\n",
      "192\n",
      "204\n",
      "216\n",
      "228\n",
      "240\n",
      "252\n",
      "264\n",
      "276\n",
      "288\n",
      "300\n"
     ]
    }
   ],
   "source": [
    "numero = 100  # Inicializamos el número en 100\n",
    "while numero <= 300:  # Mientras el número sea menor o igual a 300\n",
    "    if numero % 12 != 0:  # Si el número no es divisible por 12\n",
    "        numero += 1  # Incrementamos el número\n",
    "        continue  # Saltamos el resto del ciclo y vamos a la siguiente iteración\n",
    "    print(numero)  # Si es divisible por 12, lo imprimimos\n",
    "    numero += 1  # Incrementamos el número\n"
   ]
  },
  {
   "attachments": {},
   "cell_type": "markdown",
   "metadata": {},
   "source": [
    "13) Utilizar la función **input()** que permite hacer ingresos por teclado, para encontrar números primos y dar la opción al usario de buscar el siguiente"
   ]
  },
  {
   "cell_type": "code",
   "execution_count": 56,
   "metadata": {},
   "outputs": [
    {
     "name": "stdout",
     "output_type": "stream",
     "text": [
      "13 es un número primo.\n",
      "17 es un número primo.\n",
      "19 es un número primo.\n",
      "23 es un número primo.\n",
      "29 es un número primo.\n",
      "31 es un número primo.\n",
      "37 es un número primo.\n"
     ]
    }
   ],
   "source": [
    "def es_primo(numero):\n",
    "    if numero < 2:\n",
    "        return False\n",
    "    for i in range(2, numero):\n",
    "        if numero % i == 0:\n",
    "            return False\n",
    "    return True\n",
    "\n",
    "def buscar_primos():\n",
    "    numero = int(input(\"Ingrese un número para empezar a buscar números primos: \"))\n",
    "    while True:\n",
    "        if es_primo(numero):\n",
    "            print(f\"{numero} es un número primo.\")\n",
    "            opcion = input(\"¿Quieres buscar el siguiente número primo? (s/n): \")\n",
    "            if opcion.lower() != 's':\n",
    "                break\n",
    "        numero += 1\n",
    "\n",
    "buscar_primos()\n"
   ]
  },
  {
   "attachments": {},
   "cell_type": "markdown",
   "metadata": {},
   "source": [
    "14) Crear un ciclo while que encuentre dentro del rango de 100 a 300 el primer número divisible por 3 y además múltiplo de 6"
   ]
  },
  {
   "cell_type": "code",
   "execution_count": 57,
   "metadata": {},
   "outputs": [
    {
     "name": "stdout",
     "output_type": "stream",
     "text": [
      "El primer número divisible por 3 y múltiplo de 6 en el rango de 100 a 300 es: 102\n"
     ]
    }
   ],
   "source": [
    "numero = 100\n",
    "while numero <= 300:\n",
    "    if numero % 3 == 0 and numero % 6 == 0:\n",
    "        print(f\"El primer número divisible por 3 y múltiplo de 6 en el rango de 100 a 300 es: {numero}\")\n",
    "        break\n",
    "    numero += 1\n"
   ]
  }
 ],
 "metadata": {
  "interpreter": {
   "hash": "c85384e4cb51c8b72350f3a8712cc8351fdc3955e32a27f9b60c6242ab125f01"
  },
  "kernelspec": {
   "display_name": "Python 3 (ipykernel)",
   "language": "python",
   "name": "python3"
  },
  "language_info": {
   "codemirror_mode": {
    "name": "ipython",
    "version": 3
   },
   "file_extension": ".py",
   "mimetype": "text/x-python",
   "name": "python",
   "nbconvert_exporter": "python",
   "pygments_lexer": "ipython3",
   "version": "3.11.4"
  }
 },
 "nbformat": 4,
 "nbformat_minor": 4
}
